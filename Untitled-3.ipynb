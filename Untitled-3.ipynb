{
 "cells": [
  {
   "cell_type": "code",
   "execution_count": 2,
   "metadata": {},
   "outputs": [
    {
     "name": "stdout",
     "output_type": "stream",
     "text": [
      "O valor a pagar será de:  450.0\n"
     ]
    }
   ],
   "source": [
    "anoCarro= int (input (\"Informe o ano do seu carro: \"))\n",
    "precoCarro= float (input (\"Informe o valor do seu carro:\"))\n",
    "\n",
    "if (anoCarro < 1990):\n",
    "    taxa1 = 0.01 * precoCarro\n",
    "    print(\"O valor a pagar será de: \", taxa1)\n",
    "else:\n",
    "    taxa2 = 0.015 * precoCarro\n",
    "    print(\"O valor a pagar será de: \", taxa2)"
   ]
  },
  {
   "cell_type": "code",
   "execution_count": 11,
   "metadata": {},
   "outputs": [
    {
     "name": "stdout",
     "output_type": "stream",
     "text": [
      "Seu salário atual é R$ 1400.0 , seu salário antigo é R$ 1000.0 , a diferenca entre eles é de R$ 400.0\n"
     ]
    }
   ],
   "source": [
    "salario = float (input (\"Informe o seu salário atual: \"))\n",
    "cargo = input (\"Informe o seu cargo atual: \")\n",
    "\n",
    "if (cargo == \"gerente\"):\n",
    "    aumentoSalario = salario + salario * 10/100\n",
    "    diferenca = aumentoSalario - salario\n",
    "    print(\"Seu salário atual é R$\", aumentoSalario,\", seu salário antigo é R$\",salario, \", a diferenca entre eles é de R$\", diferenca)\n",
    "elif (cargo == \"engenheiro\"):\n",
    "        aumentoSalario = salario + salario * 20/100\n",
    "        diferenca = aumentoSalario - salario\n",
    "        print(\"Seu salário atual é R$\", aumentoSalario,\", seu salário antigo é R$\",salario, \", a diferenca entre eles é de R$\", diferenca)\n",
    "elif (cargo == \"tecnico\"):\n",
    "        aumentoSalario = salario + salario * 30/100\n",
    "        diferenca = aumentoSalario - salario\n",
    "        print(\"Seu salário atual é R$\", aumentoSalario,\", seu salário antigo é R$\",salario, \", a diferenca entre eles é de R$\", diferenca)\n",
    "else:\n",
    "        aumentoSalario = salario + salario * 40/100\n",
    "        diferenca = aumentoSalario - salario\n",
    "        print(\"Seu salário atual é R$\", aumentoSalario,\", seu salário antigo é R$\",salario, \", a diferenca entre eles é de R$\", diferenca)"
   ]
  }
 ],
 "metadata": {
  "kernelspec": {
   "display_name": "Python 3",
   "language": "python",
   "name": "python3"
  },
  "language_info": {
   "codemirror_mode": {
    "name": "ipython",
    "version": 3
   },
   "file_extension": ".py",
   "mimetype": "text/x-python",
   "name": "python",
   "nbconvert_exporter": "python",
   "pygments_lexer": "ipython3",
   "version": "3.11.4"
  }
 },
 "nbformat": 4,
 "nbformat_minor": 2
}
