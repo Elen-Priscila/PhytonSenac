{
 "cells": [
  {
   "cell_type": "code",
   "execution_count": 3,
   "metadata": {},
   "outputs": [
    {
     "name": "stdout",
     "output_type": "stream",
     "text": [
      "Número  1\n",
      "Número  2\n",
      "Número  3\n",
      "Número  4\n",
      "Número  5\n"
     ]
    }
   ],
   "source": [
    "def funcaoLeitura():\n",
    "    for num in [1,2,3,4,5]:\n",
    "        print(\"Número \", num)\n",
    "        \n",
    "funcaoLeitura()"
   ]
  },
  {
   "cell_type": "code",
   "execution_count": 8,
   "metadata": {},
   "outputs": [
    {
     "name": "stdout",
     "output_type": "stream",
     "text": [
      "Número  0\n",
      "Número  1\n",
      "Número  2\n",
      "Número  3\n",
      "Número  4\n"
     ]
    }
   ],
   "source": [
    "def funcaoLeitura():\n",
    "    for num in range(5):\n",
    "        print(\"Número \", num)\n",
    "        \n",
    "funcaoLeitura()"
   ]
  },
  {
   "cell_type": "code",
   "execution_count": 2,
   "metadata": {},
   "outputs": [],
   "source": [
    "#função para somar dois numeros\n",
    "def addNum(n1, n2):\n",
    "    print(\"O primeiro número é: \", n1)\n",
    "    print(\"O segundo número é: \", n2)\n",
    "    print(\"A soma número é: \", n1+n2)\n",
    "    "
   ]
  },
  {
   "cell_type": "code",
   "execution_count": 7,
   "metadata": {},
   "outputs": [
    {
     "ename": "TypeError",
     "evalue": "addNum() missing 2 required positional arguments: 'n1' and 'n2'",
     "output_type": "error",
     "traceback": [
      "\u001b[1;31m---------------------------------------------------------------------------\u001b[0m",
      "\u001b[1;31mTypeError\u001b[0m                                 Traceback (most recent call last)",
      "Cell \u001b[1;32mIn[7], line 1\u001b[0m\n\u001b[1;32m----> 1\u001b[0m \u001b[43maddNum\u001b[49m\u001b[43m(\u001b[49m\u001b[43m)\u001b[49m\n",
      "\u001b[1;31mTypeError\u001b[0m: addNum() missing 2 required positional arguments: 'n1' and 'n2'"
     ]
    }
   ],
   "source": [
    "addNum()"
   ]
  },
  {
   "cell_type": "code",
   "execution_count": 4,
   "metadata": {},
   "outputs": [
    {
     "name": "stdout",
     "output_type": "stream",
     "text": [
      "O primeiro número é:  4\n",
      "O segundo número é:  3\n",
      "A soma número é:  7\n"
     ]
    }
   ],
   "source": [
    "addNum(4,3)"
   ]
  },
  {
   "cell_type": "code",
   "execution_count": 5,
   "metadata": {},
   "outputs": [
    {
     "name": "stdout",
     "output_type": "stream",
     "text": [
      "O primeiro número é:  2\n",
      "O segundo número é:  6\n",
      "A soma número é:  8\n"
     ]
    }
   ],
   "source": [
    "addNum(2,6)"
   ]
  },
  {
   "cell_type": "code",
   "execution_count": 14,
   "metadata": {},
   "outputs": [],
   "source": [
    "varGlobal = 10\n",
    "def multiplicacao(num1, num2):\n",
    "    varLocal = num1 * num2\n",
    "    print(\"Variável de função multiplicação: \", varLocal)\n",
    "    print(varLocal)"
   ]
  },
  {
   "cell_type": "code",
   "execution_count": 17,
   "metadata": {},
   "outputs": [
    {
     "name": "stdout",
     "output_type": "stream",
     "text": [
      "Variável de função multiplica:  20\n"
     ]
    }
   ],
   "source": [
    "multiplicacao(5,4)"
   ]
  },
  {
   "cell_type": "code",
   "execution_count": 15,
   "metadata": {},
   "outputs": [],
   "source": [
    "varGlobal = 10\n",
    "def multiplicacao(num1, num2):\n",
    "    #apesar do mesmo nome, é uma variável local:\n",
    "    varGlobal = num1 * num2\n",
    "    print(\"Variável de função multiplica: \", varGlobal)\n",
    "   "
   ]
  },
  {
   "cell_type": "code",
   "execution_count": 16,
   "metadata": {},
   "outputs": [
    {
     "name": "stdout",
     "output_type": "stream",
     "text": [
      "Variável de função multiplica:  20\n",
      "10\n"
     ]
    }
   ],
   "source": [
    "multiplicacao(5,4) #aqui está sendo chamado a função e consequentemente a variável que está dentro: \"varGlobal\", que dentro da função, se torna uma variável local e executa o que manda dentro da função, que seria a multiplicação\n",
    "print(varGlobal) #aqui está sendo chamado somente a variável criada, que seria \"varGlobal\", que está fora da função e sendo atribuida o valor de 10"
   ]
  },
  {
   "cell_type": "code",
   "execution_count": 25,
   "metadata": {},
   "outputs": [],
   "source": [
    "#quando não sabemos a quantidade de parâmentros\n",
    "def variosParametros(*parametros): # o * significa TUDO\n",
    "    for n, item in enumerate(parametros):\n",
    "        print(\"Parâmetro\", n, item)\n",
    "    return"
   ]
  },
  {
   "cell_type": "code",
   "execution_count": 27,
   "metadata": {},
   "outputs": [
    {
     "name": "stdout",
     "output_type": "stream",
     "text": [
      "Parâmetro 0 Luquinhas\n",
      "Parâmetro 1 Madá\n",
      "Parâmetro 2 Giggio\n"
     ]
    }
   ],
   "source": [
    "variosParametros('Luquinhas', 'Madá', 'Giggio')"
   ]
  },
  {
   "cell_type": "code",
   "execution_count": 28,
   "metadata": {},
   "outputs": [],
   "source": [
    "def soma(n1, n2):\n",
    "    return n1+n2\n",
    "\n",
    "def subtrai(n1, n2):\n",
    "    return n1-n2\n",
    "\n",
    "def multiplica(n1, n2):\n",
    "    return n1*n2\n",
    "\n",
    "def divide(n1, n2):\n",
    "    return n1/n2"
   ]
  },
  {
   "cell_type": "code",
   "execution_count": 32,
   "metadata": {},
   "outputs": [
    {
     "name": "stdout",
     "output_type": "stream",
     "text": [
      "+===================+\n",
      "| 1 - SOMAR         |\n",
      "| 2 - SUBTRAIR      |\n",
      "| 3 - MULTIPLICAR   |\n",
      "| 4 - DIVIDIR       |\n",
      "| 0 - SAIR          |\n",
      "+===================+\n",
      "O resultado da soma é:  13\n",
      "+===================+\n",
      "| 1 - SOMAR         |\n",
      "| 2 - SUBTRAIR      |\n",
      "| 3 - MULTIPLICAR   |\n",
      "| 4 - DIVIDIR       |\n",
      "| 0 - SAIR          |\n",
      "+===================+\n"
     ]
    }
   ],
   "source": [
    "while True:\n",
    "    print(\"+===================+\")\n",
    "    print(\"| 1 - SOMAR         |\")\n",
    "    print(\"| 2 - SUBTRAIR      |\")\n",
    "    print(\"| 3 - MULTIPLICAR   |\")\n",
    "    print(\"| 4 - DIVIDIR       |\")\n",
    "    print(\"| 0 - SAIR          |\")\n",
    "    print(\"+===================+\")\n",
    "    \n",
    "    op = int(input())\n",
    "    if op==0:\n",
    "        break\n",
    "    \n",
    "    n1 = int(input (\"Primeiro número:\"))\n",
    "    n2 = int(input (\"Segundo número:\"))\n",
    "    \n",
    "    if op==1:\n",
    "        print(\"O resultado da soma é: \", soma(n1, n2))\n",
    "    elif op==2:\n",
    "        print(\"O resultado da subtração é: \", subtrai(n1, n2))\n",
    "    elif op==3:\n",
    "        print(\"O resultado da multiplicação é: \", multiplica(n1, n2))\n",
    "    elif op==4:\n",
    "        print(\"O resultado da divisão é: \", divide(n1, n2))"
   ]
  }
 ],
 "metadata": {
  "kernelspec": {
   "display_name": "Python 3",
   "language": "python",
   "name": "python3"
  },
  "language_info": {
   "codemirror_mode": {
    "name": "ipython",
    "version": 3
   },
   "file_extension": ".py",
   "mimetype": "text/x-python",
   "name": "python",
   "nbconvert_exporter": "python",
   "pygments_lexer": "ipython3",
   "version": "3.11.4"
  }
 },
 "nbformat": 4,
 "nbformat_minor": 2
}
