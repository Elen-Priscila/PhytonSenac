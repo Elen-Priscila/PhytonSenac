{
 "cells": [
  {
   "cell_type": "code",
   "execution_count": 1,
   "metadata": {},
   "outputs": [
    {
     "name": "stdout",
     "output_type": "stream",
     "text": [
      "O resultado do dobro do primeiro número com a metade do segundo número é:  30.0\n",
      "O resultado da soma do triplo do primeiro número com o terceiro número elevado ao cubo é:  719.969\n"
     ]
    }
   ],
   "source": [
    "#pedindo os numeros\n",
    "num1=int (input(\"Digite um número inteiro: \"))\n",
    "num2=int (input(\"Digite outro número inteiro: \"))\n",
    "num3=float (input(\"Digite um número decimal: \"))\n",
    "\n",
    "#fazendo o calculo do produto do primeiro com a metade do segundo\n",
    "produto= (2*num1) * (num2/2)\n",
    "\n",
    "#resultado\n",
    "print(\"O resultado do dobro do primeiro número com a metade do segundo número é: \", produto)\n",
    "\n",
    "#fazendo o calculo da soma do triplo do primeiro numero com o terceiro, sendo o terceiro numero elevado ao cubo\n",
    "soma = (3*num1) + (num3**3)\n",
    "print (\"O resultado da soma do triplo do primeiro número com o terceiro número elevado ao cubo é: \", soma)"
   ]
  },
  {
   "cell_type": "code",
   "execution_count": 4,
   "metadata": {},
   "outputs": [
    {
     "name": "stdout",
     "output_type": "stream",
     "text": [
      "Os números são iguais.\n"
     ]
    }
   ],
   "source": [
    "#pedindo os numeros\n",
    "num1=float (input(\"Digite o primeiro número: \"))\n",
    "num2=float (input(\"Digite o segundo número: \"))\n",
    "\n",
    "#verificando o maior número\n",
    "if num1>num2:\n",
    "    print (\"O número maior é: \", num1)\n",
    "elif num2>num1:\n",
    "    print (\"O número maior é: \", num2)\n",
    "else:\n",
    "    print (\"Os números são iguais.\")    \n"
   ]
  },
  {
   "cell_type": "code",
   "execution_count": 5,
   "metadata": {},
   "outputs": [
    {
     "name": "stdout",
     "output_type": "stream",
     "text": [
      "O número é zero.\n"
     ]
    }
   ],
   "source": [
    "#pedido um numero\n",
    "num=float (input (\"Digite um número: \"))\n",
    "\n",
    "#verificando se é positivo ou negativo\n",
    "if num>0:\n",
    "    print(\"O número é positivo.\")\n",
    "elif num<0:\n",
    "    print(\"O numero é negativo.\")\n",
    "else:\n",
    "    print(\"O número é zero.\")"
   ]
  },
  {
   "cell_type": "code",
   "execution_count": 8,
   "metadata": {},
   "outputs": [
    {
     "name": "stdout",
     "output_type": "stream",
     "text": [
      "Você foi reprovado.\n"
     ]
    }
   ],
   "source": [
    "#pedindo as notas\n",
    "nota1=float (input (\"Digite a primeira nota: \"))\n",
    "nota2=float (input (\"Digite a segunda nota: \"))\n",
    "\n",
    "#calculando a media\n",
    "media= (nota1+nota2) / 2 \n",
    "\n",
    "#verificando se houve a aprovacao ou reprovacao\n",
    "if media >= 7:\n",
    "    print (\"Você foi aprovado!\")\n",
    "else:\n",
    "    print (\"Você foi reprovado.\")"
   ]
  },
  {
   "cell_type": "code",
   "execution_count": 13,
   "metadata": {},
   "outputs": [
    {
     "name": "stdout",
     "output_type": "stream",
     "text": [
      "O número maior é: 8.0\n"
     ]
    }
   ],
   "source": [
    "#pedindo os numeros\n",
    "num1=float (input(\"Digite o primeiro número: \"))\n",
    "num2=float (input(\"Digite o segundo número: \"))\n",
    "num3=float (input(\"Digite o terceiro número: \"))\n",
    "\n",
    "#verificando o maior número\n",
    "if num1>=num2 and num1>=num3:\n",
    "    maior=num1\n",
    "elif num2>=num1 and num2>=num3:\n",
    "    maior=num2\n",
    "else:\n",
    "    maior=num3\n",
    "\n",
    "print(\"O número maior é:\", maior)"
   ]
  }
 ],
 "metadata": {
  "kernelspec": {
   "display_name": "Python 3",
   "language": "python",
   "name": "python3"
  },
  "language_info": {
   "codemirror_mode": {
    "name": "ipython",
    "version": 3
   },
   "file_extension": ".py",
   "mimetype": "text/x-python",
   "name": "python",
   "nbconvert_exporter": "python",
   "pygments_lexer": "ipython3",
   "version": "3.12.1"
  }
 },
 "nbformat": 4,
 "nbformat_minor": 2
}
