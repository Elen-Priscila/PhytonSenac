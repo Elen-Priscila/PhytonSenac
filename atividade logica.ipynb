{
 "cells": [
  {
   "cell_type": "code",
   "execution_count": 9,
   "metadata": {},
   "outputs": [
    {
     "name": "stdout",
     "output_type": "stream",
     "text": [
      "l é uma consoante.\n"
     ]
    }
   ],
   "source": [
    "letra = input(\"Digite uma letra: \")\n",
    "\n",
    "if letra == 'a' or letra == 'e' or letra == 'i' or letra == 'o' or letra == 'u' or \\\n",
    "    letra == 'A' or letra == 'E' or letra == 'I' or letra == 'O' or letra == 'U':\n",
    "    print(letra, \"é uma vogal.\")\n",
    "else:\n",
    "    print(letra, \"é uma consoante.\")"
   ]
  },
  {
   "cell_type": "code",
   "execution_count": 6,
   "metadata": {},
   "outputs": [
    {
     "name": "stdout",
     "output_type": "stream",
     "text": [
      "Você deve comprar o terceiro produto.\n"
     ]
    }
   ],
   "source": [
    "preco1 = float(input(\"Digite o preço do primeiro produto: \"))\n",
    "preco2 = float(input(\"Digite o preço do segundo produto: \"))\n",
    "preco3 = float(input(\"Digite o preço do terceiro produto: \"))\n",
    "\n",
    "if preco1 <= preco2 and preco1 <= preco3:\n",
    "    print(\"Você deve comprar o primeiro produto.\")\n",
    "elif preco2 <= preco1 and preco2 <= preco3:\n",
    "    print(\"Você deve comprar o segundo produto.\")\n",
    "    \n",
    "else:\n",
    "    print(\"Você deve comprar o terceiro produto.\")"
   ]
  },
  {
   "cell_type": "code",
   "execution_count": 12,
   "metadata": {},
   "outputs": [
    {
     "name": "stdout",
     "output_type": "stream",
     "text": [
      "Os números em ordem decrescente são: 3.0 2.0 1.0\n"
     ]
    }
   ],
   "source": [
    "num1 = float(input(\"Digite o primeiro número: \"))\n",
    "num2 = float(input(\"Digite o segundo número: \"))\n",
    "num3 = float(input(\"Digite o terceiro número: \"))\n",
    "\n",
    "if num1 >= num2 and num1 >= num3:\n",
    "    maior = num1\n",
    "    if num2 >= num3:\n",
    "        meio = num2\n",
    "        menor = num3\n",
    "    else:\n",
    "        meio = num3\n",
    "        menor = num2\n",
    "elif num2 >= num1 and num2 >= num3:\n",
    "    maior = num2\n",
    "    if num1 >= num3:\n",
    "        meio = num1\n",
    "        menor = num3\n",
    "    else:\n",
    "        meio = num3\n",
    "        menor = num1\n",
    "else:\n",
    "    maior = num3\n",
    "    if num1 >= num2:\n",
    "        meio = num1\n",
    "        menor = num2\n",
    "    else:\n",
    "        meio = num2\n",
    "        menor = num1\n",
    "\n",
    "print(\"Os números em ordem decrescente são:\", maior, meio, menor)"
   ]
  },
  {
   "cell_type": "code",
   "execution_count": 14,
   "metadata": {},
   "outputs": [
    {
     "name": "stdout",
     "output_type": "stream",
     "text": [
      "Bom Dia!\n"
     ]
    }
   ],
   "source": [
    "turno = input(\"Em qual turno você estuda? (M - Matutino, V - Vespertino, N - Noturno): \")\n",
    "\n",
    "if turno == 'M' or turno == 'm':\n",
    "    print(\"Bom Dia!\")\n",
    "elif turno == 'V' or turno == 'v':\n",
    "    print(\"Boa Tarde!\")\n",
    "elif turno == 'N' or turno == 'n':\n",
    "    print(\"Boa Noite!\")\n",
    "else:\n",
    "    print(\"Valor Inválido!\")\n"
   ]
  },
  {
   "cell_type": "code",
   "execution_count": 18,
   "metadata": {},
   "outputs": [
    {
     "name": "stdout",
     "output_type": "stream",
     "text": [
      "Segunda-feira\n"
     ]
    }
   ],
   "source": [
    "numero = int(input(\"Digite um número correspondente ao dia da semana (Ex: 1= segunda-feira): \"))\n",
    "\n",
    "if numero == 1:\n",
    "    print(\"Segunda-feira\")\n",
    "elif numero == 2:\n",
    "    print(\"Terça-feira\")\n",
    "elif numero == 3:\n",
    "    print(\"Quarta-feira\")\n",
    "elif numero == 4:\n",
    "    print(\"Quinta-feira\")\n",
    "elif numero == 5:\n",
    "    print(\"Sexta-feira\")\n",
    "elif numero == 6:\n",
    "    print(\"Sábado\")\n",
    "elif numero == 7:\n",
    "    print(\"Domingo\")\n",
    "else:\n",
    "    print(\"Valor Inválido! Por favor, digite um número entre 1 e 7.\")\n"
   ]
  },
  {
   "cell_type": "code",
   "execution_count": 20,
   "metadata": {},
   "outputs": [
    {
     "name": "stdout",
     "output_type": "stream",
     "text": [
      "Notas: 10.0 e 10.0\n",
      "Média: 10.0\n",
      "Conceito: A\n",
      "APROVADO\n"
     ]
    }
   ],
   "source": [
    "nota1 = float(input(\"Digite a primeira nota: \"))\n",
    "nota2 = float(input(\"Digite a segunda nota: \"))\n",
    "\n",
    "media = (nota1 + nota2) / 2\n",
    "\n",
    "if media >= 9.0:\n",
    "    conceito = \"A\"\n",
    "elif media >= 7.5:\n",
    "    conceito = \"B\"\n",
    "elif media >= 6.0:\n",
    "    conceito = \"C\"\n",
    "elif media >= 4.0:\n",
    "    conceito = \"D\"\n",
    "else:\n",
    "    conceito = \"E\"\n",
    "\n",
    "print(\"Notas:\", nota1, \"e\", nota2)\n",
    "print(\"Média:\", media)\n",
    "print(\"Conceito:\", conceito)\n",
    "\n",
    "if conceito in ['A', 'B', 'C']:\n",
    "    print(\"APROVADO\")\n",
    "else:\n",
    "    print(\"REPROVADO\")"
   ]
  },
  {
   "cell_type": "code",
   "execution_count": 23,
   "metadata": {},
   "outputs": [
    {
     "name": "stdout",
     "output_type": "stream",
     "text": [
      "2001 não é um ano bissexto.\n"
     ]
    }
   ],
   "source": [
    "ano = int(input(\"Digite um ano: \"))\n",
    "\n",
    "if (ano % 4 == 0 and ano % 100 != 0) or (ano % 400 == 0):\n",
    "    print(ano, \"é um ano bissexto.\")\n",
    "else:\n",
    "    print(ano, \"não é um ano bissexto.\")\n"
   ]
  },
  {
   "cell_type": "code",
   "execution_count": 2,
   "metadata": {},
   "outputs": [
    {
     "name": "stdout",
     "output_type": "stream",
     "text": [
      "O resultado da operação é: 7.0\n",
      "O número é ímpar, positivo, e inteiro.\n"
     ]
    }
   ],
   "source": [
    "numero1 = float(input(\"Digite o primeiro número: \"))\n",
    "numero2 = float(input(\"Digite o segundo número: \"))\n",
    "\n",
    "operacao = input(\"Escolha a operação desejada (+ para soma, - para subtração, * para multiplicação, / para divisão, ** para exponenciação): \")\n",
    "\n",
    "if operacao == '+':\n",
    "    resultado = numero1 + numero2\n",
    "elif operacao == '-':\n",
    "    resultado = numero1 - numero2\n",
    "elif operacao == '*':\n",
    "    resultado = numero1 * numero2\n",
    "elif operacao == '/':\n",
    "    resultado = numero1 / numero2\n",
    "elif operacao == '**':\n",
    "    resultado = numero1 ** numero2\n",
    "else:\n",
    "    print(\"Operação inválida!\")\n",
    "    exit()\n",
    "\n",
    "if resultado % 2 == 0:\n",
    "    tipo_numero = \"par\"\n",
    "else:\n",
    "    tipo_numero = \"ímpar\"\n",
    "\n",
    "if resultado >= 0:\n",
    "    sinal_numero = \"positivo\"\n",
    "else:\n",
    "    sinal_numero = \"negativo\"\n",
    "\n",
    "if resultado.is_integer():\n",
    "    tipo_resultado = \"inteiro\"\n",
    "else:\n",
    "    tipo_resultado = \"decimal\"\n",
    "\n",
    "print(\"O resultado da operação é:\", resultado)\n",
    "print(\"O número é\", tipo_numero + \",\", sinal_numero + \",\", \"e\", tipo_resultado + \".\")\n"
   ]
  },
  {
   "cell_type": "code",
   "execution_count": 3,
   "metadata": {},
   "outputs": [
    {
     "name": "stdout",
     "output_type": "stream",
     "text": [
      "Sua idade é: 3\n"
     ]
    }
   ],
   "source": [
    "idade = int(input(\"Digite sua idade: \"))\n",
    "\n",
    "if idade >= 0 and idade <= 150:\n",
    "    print(\"Sua idade é:\", idade)\n",
    "else:\n",
    "    print(\"Idade inválida. Por favor, digite um valor entre 0 e 150.\")"
   ]
  }
 ],
 "metadata": {
  "kernelspec": {
   "display_name": "Python 3",
   "language": "python",
   "name": "python3"
  },
  "language_info": {
   "codemirror_mode": {
    "name": "ipython",
    "version": 3
   },
   "file_extension": ".py",
   "mimetype": "text/x-python",
   "name": "python",
   "nbconvert_exporter": "python",
   "pygments_lexer": "ipython3",
   "version": "3.11.4"
  }
 },
 "nbformat": 4,
 "nbformat_minor": 2
}
